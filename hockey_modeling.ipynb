{
 "cells": [
  {
   "cell_type": "markdown",
   "id": "fac27067-ff6b-4b09-857b-0ee124565001",
   "metadata": {},
   "source": [
    "# Modeling #\n",
    "It's time to model the hockey data and predict playoff performances. I'm using the same kernel as the hockey_features notebook so variables are shared."
   ]
  },
  {
   "cell_type": "code",
   "execution_count": 231,
   "id": "2e7806eb-9d43-4277-984e-84f6e4e499a5",
   "metadata": {},
   "outputs": [],
   "source": [
    "import pandas as pd\n",
    "import time\n",
    "import random\n",
    "from sklearn.decomposition import PCA\n",
    "from sklearn.linear_model import LinearRegression\n",
    "from sklearn.ensemble import RandomForestRegressor\n",
    "from sklearn.metrics import confusion_matrix\n",
    "from sklearn.metrics import classification_report\n",
    "from sklearn.linear_model import ElasticNet\n",
    "from sklearn.svm import SVR\n",
    "from numpy import arange\n",
    "from lightgbm import LGBMRegressor\n",
    "from sklearn.preprocessing import PolynomialFeatures"
   ]
  },
  {
   "cell_type": "markdown",
   "id": "bf21d362-151d-4519-abec-d1d176961f84",
   "metadata": {},
   "source": [
    "### Train and Test Split ###\n",
    "It is important to split the data by season, so that the classification report makes sense later on. Since the number of seasons is rather small, the random split is quite influential. I'll have to try a number of random seeds to optimize the model."
   ]
  },
  {
   "cell_type": "code",
   "execution_count": 33,
   "id": "54e0730d-4b04-435d-9d79-a0ba2b9045dc",
   "metadata": {},
   "outputs": [],
   "source": [
    "def create_split(X, y, random_seed):\n",
    "    ''' (DataFrame, DataFrame, list, int) -> DataFrame, DataFrame, DataFrame, DataFrame\n",
    "    Returns a random split of X and y along seasons from the model_seasons list. Split is 75% train, 25% test.\n",
    "    '''\n",
    "    model_seasons = X['Season'].unique()\n",
    "    \n",
    "    # Seed the RNG\n",
    "    random.seed(random_seed)\n",
    "    random.shuffle(model_seasons)\n",
    "    \n",
    "    # Split the list into two lists\n",
    "    train_seasons = model_seasons[:int(len(model_seasons) * .75)]\n",
    "    test_seasons = model_seasons[int(len(model_seasons) * .75):]\n",
    "\n",
    "    # Create the train-test split\n",
    "    X_train = X.loc[X['Season'].isin(train_seasons)].set_index(['Team', 'Season'])\n",
    "    X_test = X.loc[X['Season'].isin(test_seasons)].set_index(['Team', 'Season'])\n",
    "\n",
    "    y_train = y.loc[y['Season'].isin(train_seasons)].set_index(['Team', 'Season'])\n",
    "    y_test = y.loc[y['Season'].isin(test_seasons)].set_index(['Team', 'Season'])\n",
    "\n",
    "    return X_train, X_test, y_train, y_test"
   ]
  },
  {
   "cell_type": "markdown",
   "id": "c88902c0-5718-4693-94f5-0e599efbe451",
   "metadata": {},
   "source": [
    "### Evaluation ###\n",
    "To properly evaluate the predictions, I must convert the points percentages to playoff seedings. Then I can compare the true playoff standings from those seasons to the predictions and score the predictions"
   ]
  },
  {
   "cell_type": "code",
   "execution_count": 34,
   "id": "fe5930ef-0097-4f45-b7c7-f010c7aec33d",
   "metadata": {},
   "outputs": [],
   "source": [
    "def evaluate_model(X_test, y_test, model):\n",
    "    ''' (DataFrame, DataFrame, model) -> confusion matrix, classification report\n",
    "    Returns confusion matrix and classification report for trained model.\n",
    "    '''\n",
    "    # Make prediction\n",
    "    pts_pred = model.predict(X_test)\n",
    "\n",
    "    # Combine prediction and actual values\n",
    "    y_score = y_test.drop('PTS%', axis = 1)\n",
    "    y_score['PTS%_Pred'] = pts_pred\n",
    "\n",
    "    # Convert predicted points percentage to playoff status\n",
    "    playoff_preds = create_playoff_preds(y_score, answer_key)\n",
    "\n",
    "    # Assign boolean columns\n",
    "    y_true = playoff_preds['True_playoffs'].astype(int)\n",
    "    y_pred = playoff_preds['Pred_playoffs'].astype(int)\n",
    "    \n",
    "    # Generate confusion matrix and classification report\n",
    "    conf_matrix = confusion_matrix(y_true, y_pred)\n",
    "    report = classification_report(y_true, y_pred, target_names = ['Playoffs', 'Non-Playoffs'], output_dict = True)\n",
    "    \n",
    "    return conf_matrix, report"
   ]
  },
  {
   "cell_type": "markdown",
   "id": "e97ce28a-a3fe-4743-a792-4089f860c223",
   "metadata": {
    "jp-MarkdownHeadingCollapsed": true
   },
   "source": [
    "## OLS Linear Model ##\n",
    "An ordinary least squares linear regression is a sensible first model to try in a situation like this. It's simple but should capture the general trend of the data reasonably well."
   ]
  },
  {
   "cell_type": "code",
   "execution_count": 35,
   "id": "93d8e0d2-f597-459b-94db-98358cd376fc",
   "metadata": {},
   "outputs": [
    {
     "name": "stdout",
     "output_type": "stream",
     "text": [
      "Model accuracy on test data: 70.73%\n",
      "Model accuracy on holdout 2023 data: 68.75%\n",
      "[[11  5]\n",
      " [ 5 11]]\n"
     ]
    }
   ],
   "source": [
    "# Splitting the train and test data using an arbitrary seed\n",
    "X_train, X_test, y_train, y_test = create_split(X, y, 2)\n",
    "\n",
    "model = LinearRegression()\n",
    "# Fit the model to the training data\n",
    "model.fit(X_train, y_train);\n",
    "\n",
    "# Accuracy of the model when predicting on the test data\n",
    "conf_matrix, report = evaluate_model(X_test, y_test, model)\n",
    "score = report['accuracy']\n",
    "print(f'Model accuracy on test data: {score*100:.2f}%')\n",
    "\n",
    "# Accuracy of the model when predicting on the holdout data\n",
    "conf_matrix, report = evaluate_model(X_hold, y_hold, model)\n",
    "score = report['accuracy']\n",
    "print(f'Model accuracy on holdout 2023 data: {score*100:.2f}%')\n",
    "print(conf_matrix)"
   ]
  },
  {
   "cell_type": "markdown",
   "id": "21bd8b72-5d7f-4613-9300-3345ce19194c",
   "metadata": {},
   "source": [
    "So this model, which was trained on the random split from seed 2, correctly classified 11 of 16 playoff teams. After a handful of trials, it's clear that the hurdle for this linear model to clear is the 10/16 or 62.5% mark. Most iterations end up stuck on that ratio regardless of the test set accuracy. Seed 2 is actually a bit of an outlier in that regard."
   ]
  },
  {
   "cell_type": "code",
   "execution_count": 36,
   "id": "5024d77c-bf73-433e-ae04-34a266f42a66",
   "metadata": {},
   "outputs": [
    {
     "name": "stdout",
     "output_type": "stream",
     "text": [
      "The model was trained on data from [2007 2009 2010 2011 2013 2014 2015 2016 2017 2018 2019 2020]\n",
      " It was tested on data from [2008 2012 2021 2022]\n"
     ]
    }
   ],
   "source": [
    "seed_2_train_seasons = X_train.reset_index(drop = False)['Season'].unique()\n",
    "seed_2_test_seasons = X_test.reset_index(drop = False)['Season'].unique()\n",
    "print(f'The model was trained on data from {seed_2_train_seasons}\\n \\\n",
    "It was tested on data from {seed_2_test_seasons}')"
   ]
  },
  {
   "cell_type": "markdown",
   "id": "a332f79a-0add-47eb-9237-28b7354eafda",
   "metadata": {},
   "source": [
    "This split of the training and testing data resulted in better performance than most models, but it excluded the 2 most recent seasons from the training set. Perhaps there were anomalous performances in those seasons that skewed the model's behavior. "
   ]
  },
  {
   "cell_type": "markdown",
   "id": "27fe4f82-5631-447d-a2b4-38aa32ea27b5",
   "metadata": {},
   "source": [
    "### OLS Linear Model Optimization ###\n",
    "After a couple trials, it's clear that the random seed influences the accuracy of the model quite a bit. This is to be expected since the training dataset isn't tremendously large, accounting for just 12 seasons. Maybe trying a variety of random seeds will yield a model that's trained on a range of data that better encapsulates the overall trend. I can check out this model's performance on the holdout data and check out the train-test split with the specific seed."
   ]
  },
  {
   "cell_type": "code",
   "execution_count": 37,
   "id": "baab75b5-c481-49c0-a569-880df811ce82",
   "metadata": {},
   "outputs": [],
   "source": [
    "def optimize_linear_model(X, y):\n",
    "    ''' (DataFrame, DataFrame) -> model, float, int\n",
    "    Returns the best performing linear regression model as well as its accuracy score and the random\n",
    "    seed which generated the train-test split of the input data.\n",
    "    '''\n",
    "    hi_score = 0\n",
    "    best_model = None\n",
    "    seed = None\n",
    "\n",
    "    # Pick 100 random seeds (in reality there are 43,680 possible combinations of train-test splits)\n",
    "    # At 0.16 seconds per model, it would take nearly 2 hours to check them all\n",
    "    seed_list = [random.randint(0, 1000) for _ in range(100)]\n",
    "\n",
    "    for random_seed in seed_list:\n",
    "        # Create a new split and model for each seed\n",
    "        X_train, X_test, y_train, y_test = create_split(X, y, random_seed)\n",
    "        model = LinearRegression()\n",
    "        model.fit(X_train, y_train)\n",
    "\n",
    "        # Evaluate the model\n",
    "        conf_matrix, report = evaluate_model(X_test, y_test, model)\n",
    "        score = report['accuracy']\n",
    "\n",
    "        # Conditionally update the best model parameters\n",
    "        if score > hi_score:\n",
    "            hi_score = score\n",
    "            best_model = model\n",
    "            seed = random_seed\n",
    "\n",
    "    return best_model, hi_score, seed"
   ]
  },
  {
   "cell_type": "markdown",
   "id": "aeeef168-837c-4406-972c-7e68ebcbf6fd",
   "metadata": {},
   "source": [
    "### A Note About Comments ###\n",
    "After finding the optimal model from the optimization function, I'll comment out the code so it doesn't run every time I restart the kernel. I've preserved the code output from the optimization function in a markdown cell below each function call."
   ]
  },
  {
   "cell_type": "code",
   "execution_count": 102,
   "id": "a16936cc-5d61-4866-81a4-c15a9b565077",
   "metadata": {},
   "outputs": [],
   "source": [
    "# Running and timing the optimization function\n",
    "'''\n",
    "start = time.time()\n",
    "best_model, hi_score, seed = optimize_linear_model(X, y)\n",
    "end = time.time()\n",
    "elapsed_time = end - start\n",
    "\n",
    "print('Execution time:', time.strftime('%M:%S', time.gmtime(elapsed_time)))\n",
    "print(f'The best seed was {seed} with {hi_score*100:.2f}% test data accuracy.')\n",
    "''';"
   ]
  },
  {
   "cell_type": "markdown",
   "id": "7ac2ea0d-a4e9-4ab3-b46d-921b01048eab",
   "metadata": {},
   "source": [
    "Code output: \\\n",
    "Execution time: 00:17 \\\n",
    "The best seed was 625 with 83.74% test data accuracy."
   ]
  },
  {
   "cell_type": "code",
   "execution_count": 116,
   "id": "8833b146-4614-4398-87bc-86928723ec0f",
   "metadata": {},
   "outputs": [
    {
     "name": "stdout",
     "output_type": "stream",
     "text": [
      "[[10  6]\n",
      " [ 6 10]]\n",
      "0.625\n"
     ]
    }
   ],
   "source": [
    "# Building best model\n",
    "best_model = LinearRegression()\n",
    "X_train, X_test, y_train, y_test = create_split(X, y, 756)\n",
    "best_model.fit(X_train, y_train)\n",
    "#Running and evaluating the best model on the holdout data\n",
    "conf_matrix, report = evaluate_model(X_hold, y_hold, best_model)\n",
    "print(conf_matrix)\n",
    "print(report['accuracy'])"
   ]
  },
  {
   "cell_type": "markdown",
   "id": "a74bf166-a309-4841-8419-1404317698c0",
   "metadata": {},
   "source": [
    "Once again, in spite of a better test set accuracy, the best model isn't generalizing to the 2023 data well. This isn't a huge surprise but I'm confident I can find improvements by tweaking the model, performing PCA, and trying other types of models."
   ]
  },
  {
   "cell_type": "markdown",
   "id": "031a6e32-842c-4c4b-b16e-b28fabadb05e",
   "metadata": {},
   "source": [
    "### Cheating to find the best seed ###"
   ]
  },
  {
   "cell_type": "markdown",
   "id": "ee611757-affb-40e9-993e-f9d23b4c0f58",
   "metadata": {},
   "source": [
    "Out of curiosity, I want to see the best result possible from just shuffling seeds, so I'm going to use the accuracy when predicting the holdout data as the target metric."
   ]
  },
  {
   "cell_type": "code",
   "execution_count": 41,
   "id": "a8bcfa06-5e8f-455d-b227-97a95dad0374",
   "metadata": {},
   "outputs": [],
   "source": [
    "def cheat_linear_model(X, y, X_hold, y_hold):\n",
    "    ''' (DataFrame, DataFrame) -> model, float, int\n",
    "    Returns the best performing linear regression model as well as its accuracy score and the random\n",
    "    seed which generated the train-test split of the input data.\n",
    "    '''\n",
    "    hi_score = 0\n",
    "    best_model = None\n",
    "    seed = None\n",
    "\n",
    "    # Pick 100 random seeds (in reality there are 43,680 possible combinations of train-test splits)\n",
    "    # At 0.16 seconds per model, it would take nearly 2 hours to check them all\n",
    "    seed_list = [random.randint(0, 1000) for _ in range(500)]\n",
    "\n",
    "    for random_seed in seed_list:\n",
    "        # Create a new split and model for each seed\n",
    "        X_train, X_test, y_train, y_test = create_split(X, y, random_seed)\n",
    "        model = LinearRegression()\n",
    "        model.fit(X_train, y_train)\n",
    "\n",
    "        # Evaluate the model\n",
    "        conf_matrix, report = evaluate_model(X_hold, y_hold, model)\n",
    "        score = report['accuracy']\n",
    "\n",
    "        # Conditionally update the best model parameters\n",
    "        if score > hi_score:\n",
    "            hi_score = score\n",
    "            best_model = model\n",
    "            seed = random_seed\n",
    "\n",
    "    return best_model, hi_score, seed"
   ]
  },
  {
   "cell_type": "code",
   "execution_count": 103,
   "id": "3a8d10cc-bb5a-448e-aec1-fd0ee66a46a3",
   "metadata": {},
   "outputs": [],
   "source": [
    "# Running and timing the optimization function\n",
    "'''\n",
    "start = time.time()\n",
    "best_model, hi_score, seed = cheat_linear_model(X, y, X_hold, y_hold)\n",
    "end = time.time()\n",
    "elapsed_time = end - start\n",
    "\n",
    "print('Execution time:', time.strftime('%M:%S', time.gmtime(elapsed_time)))\n",
    "print(f'The best seed was {seed} with {hi_score*100:.2f}% test data accuracy.')\n",
    "''';"
   ]
  },
  {
   "cell_type": "markdown",
   "id": "776ae933-e7ec-4880-867e-97d21e305f8e",
   "metadata": {},
   "source": [
    "Code output: \\\n",
    "Execution time: 00:25. \\\n",
    "The best seed was 903 with 68.75% test data accuracy."
   ]
  },
  {
   "cell_type": "markdown",
   "id": "477cf48d-ff00-44ac-aa97-7eadeb14096a",
   "metadata": {},
   "source": [
    "This is a bit of a surprise. Even searching 500 seeds, I can't find a train-test split that beats 11/16 or 68.75% accuracy. Evidently, this linear approach just doesn't predict well for the 2023 data. I'm still confident I can get a better result from other approaches that aren't so linear, but I also want to check out PCA."
   ]
  },
  {
   "cell_type": "markdown",
   "id": "52a3391c-189e-401a-9308-ddd7a961a093",
   "metadata": {},
   "source": [
    "### OLS with PCA ###\n",
    "Reducing the dimensionality of the data may help my linear model perform better on the data, so I'll try that approach."
   ]
  },
  {
   "cell_type": "code",
   "execution_count": 43,
   "id": "1529db60-5aa2-4b30-8dbb-8d66fb07dfb5",
   "metadata": {},
   "outputs": [],
   "source": [
    "def create_PCA(X, X_hold, n_components):\n",
    "\n",
    "    X_pre_pca = X.set_index(['Team', 'Season'])\n",
    "    column_names = X_pre_pca.columns\n",
    "    X_index_names = X_pre_pca.index\n",
    "    hold_index_names = X_hold.index\n",
    "    pca = PCA(n_components = n_components)\n",
    "\n",
    "    # The training and testing data need to have the index reset for the process of splitting by season.\n",
    "    # It will be set again later\n",
    "    X_pca = pd.DataFrame(pca.fit_transform(X_pre_pca),\n",
    "                         columns = [f'PC{i}' for i in range(1, n_components+1)],\n",
    "                         index = X_index_names).reset_index(drop = False)\n",
    "\n",
    "    # The holdout data do not need the index to be reset\n",
    "    X_hold_pca = pd.DataFrame(pca.transform(X_hold),\n",
    "                              columns = [f'PC{i}' for i in range(1, n_components+1)],\n",
    "                              index = hold_index_names)\n",
    "\n",
    "    return X_pca, X_hold_pca, pca"
   ]
  },
  {
   "cell_type": "code",
   "execution_count": 44,
   "id": "2906a430-ec0c-40b8-a412-4855124b39c0",
   "metadata": {},
   "outputs": [
    {
     "data": {
      "image/png": "[encoded data removed]",
      "text/plain": [
       "<Figure size 640x480 with 1 Axes>"
      ]
     },
     "metadata": {},
     "output_type": "display_data"
    }
   ],
   "source": [
    "# Performing the PCA with 5 components\n",
    "X_pca, X_hold_pca, pca = create_PCA(X, X_hold, 5) \n",
    "plt.plot(pca.explained_variance_ratio_.cumsum())\n",
    "plt.xlabel('Component #')\n",
    "plt.xticks(np.arange(0, 5))\n",
    "plt.ylabel('Cumulative variance ratio')\n",
    "plt.title('Cumulative Variance Ratio by Component')\n",
    "plt.show()"
   ]
  },
  {
   "cell_type": "markdown",
   "id": "03edff4b-1982-4fab-9e43-db68845af12f",
   "metadata": {},
   "source": [
    "I can explain about 80% of the variance in the data with 5 components. It's worth a shot to try modeling and evaluating on the transformed data."
   ]
  },
  {
   "cell_type": "code",
   "execution_count": 104,
   "id": "ccb0cb59-712d-4fb6-8d62-0264becbe431",
   "metadata": {},
   "outputs": [],
   "source": [
    "# Running and timing the optimization function\n",
    "'''\n",
    "start = time.time()\n",
    "best_model, hi_score, seed = optimize_linear_model(X_pca, y)\n",
    "end = time.time()\n",
    "elapsed_time = end - start\n",
    "\n",
    "print('Execution time:', time.strftime('%M:%S', time.gmtime(elapsed_time)))\n",
    "print(f'The best seed was {seed} with {hi_score*100:.2f}% test data accuracy.')\n",
    "''';"
   ]
  },
  {
   "cell_type": "markdown",
   "id": "ff573e21-4a5a-4b81-ad10-d48e12681e1b",
   "metadata": {},
   "source": [
    "Code output: \\\n",
    "Execution time: 00:15. \\\n",
    "The best seed was 951 with 80.33% test data accuracy."
   ]
  },
  {
   "cell_type": "code",
   "execution_count": 117,
   "id": "a4c32a3f-c3f1-4acb-a8ee-266ea791b50b",
   "metadata": {},
   "outputs": [
    {
     "name": "stdout",
     "output_type": "stream",
     "text": [
      "[[10  6]\n",
      " [ 6 10]]\n",
      "0.625\n"
     ]
    }
   ],
   "source": [
    "# Building best model\n",
    "best_model = LinearRegression()\n",
    "X_train, X_test, y_train, y_test = create_split(X_pca, y, 951)\n",
    "best_model.fit(X_train, y_train)\n",
    "#Running and evaluating the best model on the holdout data\n",
    "conf_matrix, report = evaluate_model(X_hold_pca, y_hold, best_model)\n",
    "print(conf_matrix)\n",
    "print(report['accuracy'])"
   ]
  },
  {
   "cell_type": "markdown",
   "id": "0883eb21-ee25-46e2-8a18-8aec29182be4",
   "metadata": {},
   "source": [
    "The best model from the PCA data scored over 80% accuracy on the testing data. Unsurprisingly, it achieved the same 62.5% accuracy on the holdout data. So in this case, PCA didn't help. Maybe it will be useful for a different type of model later on."
   ]
  },
  {
   "cell_type": "markdown",
   "id": "0e11060b-540a-4865-ba8a-63fe76d9eb5b",
   "metadata": {},
   "source": [
    "### OLS with all data ###\n",
    "Now that it's well established that the linear model is overfitting regardless of the split, I'll evaluate its predictive performance when training on all the data and predicting on the holdout data."
   ]
  },
  {
   "cell_type": "code",
   "execution_count": 48,
   "id": "32d5ed59-0329-4feb-a57c-356f37955976",
   "metadata": {},
   "outputs": [
    {
     "name": "stdout",
     "output_type": "stream",
     "text": [
      "[[10  6]\n",
      " [ 6 10]]\n",
      "0.625\n"
     ]
    }
   ],
   "source": [
    "model = LinearRegression()\n",
    "model.fit(X.set_index(['Team', 'Season']), y.set_index(['Team', 'Season']))\n",
    "\n",
    "conf_matrix, report = evaluate_model(X_hold, y_hold, model)\n",
    "print(conf_matrix)\n",
    "print(report['accuracy'])"
   ]
  },
  {
   "cell_type": "markdown",
   "id": "81010cf5-5c88-4378-97f1-a3b80badf404",
   "metadata": {},
   "source": [
    "To absolutely no surprise, it got 10 out of 16 right again."
   ]
  },
  {
   "cell_type": "markdown",
   "id": "286c8bba-0a3c-4db3-87bc-f827e6b6c1ee",
   "metadata": {
    "jp-MarkdownHeadingCollapsed": true
   },
   "source": [
    "## Elastic Net Regression ##\n",
    "It's time to seek some improvement over the OLS linear model by adding some penalty terms."
   ]
  },
  {
   "cell_type": "code",
   "execution_count": 49,
   "id": "4d374090-9356-454f-a635-48c0c9076d7c",
   "metadata": {},
   "outputs": [],
   "source": [
    "def optimize_elastic_model(X, y):\n",
    "    ''' (DataFrame, DataFrame) -> model, float, int\n",
    "    Returns the best performing linear regression model as well as its accuracy score and the random\n",
    "    seed which generated the train-test split of the input data.\n",
    "    '''\n",
    "    hi_score = 0\n",
    "    best_model = None\n",
    "    seed = None\n",
    "    best_l1 = None\n",
    "    best_alpha = None\n",
    "\n",
    "    # Pick random seeds\n",
    "    seed_list = [random.randint(0, 1000) for _ in range(10)]\n",
    "    # Pick alpha term\n",
    "    alpha_list = [1e-5, 1e-4, 1e-3, 1e-2, 1e-1, 0.0, 1.0]\n",
    "    # Pick l1 ratio\n",
    "    l1_list = arange(0, .5, 0.025)\n",
    "    \n",
    "    for random_seed in seed_list:\n",
    "        for alpha in alpha_list:\n",
    "            for l1 in l1_list:\n",
    "            # Create a new split and model for each seed\n",
    "                X_train, X_test, y_train, y_test = create_split(X, y, random_seed)\n",
    "                # Train a new model on the split with the alpha and l1 parameters\n",
    "                model = ElasticNet(random_state = 14, alpha = alpha, l1_ratio = l1)\n",
    "                model.fit(X_train, y_train)\n",
    "    \n",
    "            # Evaluate the model\n",
    "                conf_matrix, report = evaluate_model(X_test, y_test, model)\n",
    "                score = report['accuracy']\n",
    "    \n",
    "            # Conditionally update the best model parameters\n",
    "                if score > hi_score:\n",
    "                    hi_score = score\n",
    "                    best_model = model\n",
    "                    seed = random_seed\n",
    "                    best_alpha = alpha\n",
    "                    best_l1 = l1\n",
    "\n",
    "    return best_model, hi_score, seed, best_alpha, best_l1"
   ]
  },
  {
   "cell_type": "code",
   "execution_count": 95,
   "id": "43933b41-41d5-49b5-b1e8-1c6f0193b8e8",
   "metadata": {},
   "outputs": [],
   "source": [
    "# Running and timing the optimization function\n",
    "'''\n",
    "start = time.time()\n",
    "best_EN_model, hi_score, seed, alpha, l1 = optimize_elastic_model(X, y)\n",
    "end = time.time()\n",
    "elapsed_time = end - start\n",
    "\n",
    "print('Execution time:', time.strftime('%M:%S', time.gmtime(elapsed_time)))\n",
    "print(f'The best seed was {seed} with {hi_score*100:.2f}% test data accuracy.')\n",
    "print(f'The best alpha was {alpha} and the best l1 ratio was {l1}.')\n",
    "''';"
   ]
  },
  {
   "cell_type": "markdown",
   "id": "7fa1b941-1e37-4d6e-ad56-273908bddde7",
   "metadata": {},
   "source": [
    "Code output: \\\n",
    "Execution time: 03:23 \\\n",
    "The best seed was 426 with 75.81% test data accuracy. \\\n",
    "The best alpha was 0.1 and the best l1 ratio was 0.025."
   ]
  },
  {
   "cell_type": "code",
   "execution_count": 119,
   "id": "1f0d81a7-492a-474a-b745-66a9d5669dc5",
   "metadata": {},
   "outputs": [
    {
     "name": "stdout",
     "output_type": "stream",
     "text": [
      "[[10  6]\n",
      " [ 6 10]]\n",
      "0.625\n"
     ]
    }
   ],
   "source": [
    "# Build optimal model from grid search\n",
    "best_EN_model = ElasticNet(random_state = 14, alpha = 0.1, l1_ratio = 0.25)\n",
    "X_train, X_test, y_train, y_test = create_split(X, y, 426)\n",
    "best_EN_model.fit(X_train, y_train)\n",
    "# Evaluate optimal model on holdout data\n",
    "conf_matrix, report = evaluate_model(X_hold, y_hold, best_EN_model)\n",
    "print(conf_matrix)\n",
    "print(report['accuracy'])"
   ]
  },
  {
   "cell_type": "markdown",
   "id": "de0f3187-bce5-4571-95f0-9ce881b9f2b1",
   "metadata": {},
   "source": [
    "After running a number of trials with varying alpha and l1 ratio ranges, I haven't seen any performance improvements over the standard linear model."
   ]
  },
  {
   "cell_type": "markdown",
   "id": "71892d21-b79b-4d06-a449-9f7bd749c58f",
   "metadata": {
    "jp-MarkdownHeadingCollapsed": true
   },
   "source": [
    "## Random Forest Regression ##\n",
    "Random Forest Regression may be able to capture the interactions between all the features better than a linear model."
   ]
  },
  {
   "cell_type": "code",
   "execution_count": 87,
   "id": "bc69bbda-27b5-4073-9633-1bd7dc82a1de",
   "metadata": {},
   "outputs": [],
   "source": [
    "def optimize_RFR_model(X, y):\n",
    "    ''' (DataFrame, DataFrame) -> model, float, int\n",
    "    Returns the best performing linear regression model as well as its accuracy score and the random\n",
    "    seed which generated the train-test split of the input data.\n",
    "    '''\n",
    "    hi_score = 0\n",
    "    best_model = None\n",
    "    seed = None\n",
    "    best_criterion = None\n",
    "    best_n_est = None\n",
    "    best_depth = None\n",
    "    \n",
    "\n",
    "    # Choose seed 357 since it performed best in larger grid searches\n",
    "    seed_list = [357] #[random.randint(0, 1000) for _ in range(10)]\n",
    "    # Pick error criterion, eliminated Poisson since it was never optimal\n",
    "    criteria = ['squared_error', 'friedman_mse']\n",
    "    # Pick number of estimators\n",
    "    n_est_list = arange(100, 200, 25)\n",
    "    # Pick max depth, elimiated lower ranges since best models were around 10 nodes deep\n",
    "    depths = [10, 12, 15]\n",
    "    \n",
    "    for random_seed in seed_list:\n",
    "        for criterion in criteria:\n",
    "            for n_est in n_est_list:\n",
    "                for depth in depths:\n",
    "                # Create a new split and model for each seed\n",
    "                    X_train, X_test, y_train, y_test = create_split(X, y, random_seed)\n",
    "                    # Train a new model on the split\n",
    "                    model = RandomForestRegressor(random_state = 14, criterion = criterion, n_estimators = n_est, max_depth = depth)\n",
    "                    model.fit(X_train, y_train)\n",
    "        \n",
    "                # Evaluate the model\n",
    "                    conf_matrix, report = evaluate_model(X_test, y_test, model)\n",
    "                    score = report['accuracy']\n",
    "        \n",
    "                # Conditionally update the best model parameters\n",
    "                    if score > hi_score:\n",
    "                        hi_score = score\n",
    "                        best_model = model\n",
    "                        seed = random_seed\n",
    "                        best_n_est = n_est\n",
    "                        best_depth = depth\n",
    "                        best_criterion = criterion\n",
    "\n",
    "    return best_model, hi_score, seed, best_n_est, best_depth, best_criterion"
   ]
  },
  {
   "cell_type": "code",
   "execution_count": 91,
   "id": "154d24a0-50be-4fed-8fbe-ab4d9801d865",
   "metadata": {},
   "outputs": [],
   "source": [
    "# Running and timing the optimization function\n",
    "'''\n",
    "start = time.time()\n",
    "best_RFR_model, hi_score, seed, best_n_est, best_depth, best_criterion = optimize_RFR_model(X, y)\n",
    "end = time.time()\n",
    "elapsed_time = end - start\n",
    "\n",
    "print('Execution time:', time.strftime('%M:%S', time.gmtime(elapsed_time)))\n",
    "print(f'The best seed was {seed} with {hi_score*100:.2f}% test data accuracy.')\n",
    "print(f'The best criterion was {best_criterion}, the ideal max depth was {best_depth}, and the best number of estimators was {best_n_est}.')\n",
    "''';"
   ]
  },
  {
   "cell_type": "markdown",
   "id": "7ea4b51b-00e1-400e-a102-34ce44418660",
   "metadata": {},
   "source": [
    "Code output:\\\n",
    "Execution time: 00:10.\\\r\n",
    "The best seed was 357 with 73.98% test data  accuracy \\.\\\r\n",
    "The best criterion was squared_error, the ideal max depth was 10, and the best number of estimators was 150.0.0."
   ]
  },
  {
   "cell_type": "code",
   "execution_count": 118,
   "id": "b049152a-9e8d-4c21-8b61-4aadd7fd946a",
   "metadata": {},
   "outputs": [
    {
     "name": "stdout",
     "output_type": "stream",
     "text": [
      "[[12  4]\n",
      " [ 4 12]]\n",
      "0.75\n"
     ]
    }
   ],
   "source": [
    "# Building best model from grid search\n",
    "best_RFR_model = RandomForestRegressor(criterion = 'squared_error', max_depth = 10, n_estimators = 150, random_state = 14)\n",
    "X_train, X_test, y_train, y_test = create_split(X, y, 357)\n",
    "best_RFR_model.fit(X_train, y_train)\n",
    "# Evaluate model on holdout data\n",
    "conf_matrix, report = evaluate_model(X_hold, y_hold, best_RFR_model)\n",
    "print(conf_matrix)\n",
    "print(report['accuracy'])"
   ]
  },
  {
   "cell_type": "markdown",
   "id": "0d877aa2-1b76-423f-b516-c305bfc95220",
   "metadata": {},
   "source": [
    "Finally! A model has successfully predicted at least 75% of playoff teams for the holdout data. This was the target threshold for the project. Now, I want to explore some other models in order to see if any of them perform just as well or better on the holdout data and improve the test data performance as well."
   ]
  },
  {
   "cell_type": "markdown",
   "id": "339d5fa7-58dd-4ab5-be12-f6d5e065d2bb",
   "metadata": {
    "jp-MarkdownHeadingCollapsed": true
   },
   "source": [
    "## Support Vector Regression ##\n",
    "Support Vector Machine Classifiers find hyperplanes that separate classes. A SVR does something similar with a hyperplane of best fit. I don't know what to expect from it in terms of performance on this dataset. "
   ]
  },
  {
   "cell_type": "code",
   "execution_count": 158,
   "id": "cd97ac16-77e8-45d7-85dc-08a0a1948335",
   "metadata": {},
   "outputs": [],
   "source": [
    "def optimize_SVR_model(X, y):\n",
    "    ''' (DataFrame, DataFrame) -> model, float, int\n",
    "    Returns the best performing linear regression model as well as its accuracy score and the random\n",
    "    seed which generated the train-test split of the input data.\n",
    "    '''\n",
    "    hi_score = 0\n",
    "    best_model = None\n",
    "    seed = None\n",
    "    best_kernel = None\n",
    "    best_gamma = None\n",
    "    best_degree = None\n",
    "    \n",
    "\n",
    "    # Pick random seeds\n",
    "    seed_list = [random.randint(0, 1000) for _ in range(10)]\n",
    "    # Pick kernel, opting away from linear\n",
    "    kernel_list = ['poly', 'rbf', 'sigmoid']\n",
    "    # Pick number of estimators\n",
    "    gamma_list = ['scale', 'auto']\n",
    "    # Pick degrees for poly kernel\n",
    "    degrees = [2, 3, 4]\n",
    "    \n",
    "    for random_seed in seed_list:\n",
    "        for kernel in kernel_list:\n",
    "            for gamma in gamma_list:\n",
    "                for degree in degrees:\n",
    "                    # Create a new split and model for each seed\n",
    "                    X_train, X_test, y_train, y_test = create_split(X, y, random_seed)\n",
    "                    # Train a new model on the split\n",
    "                    model = SVR(gamma = gamma, kernel = kernel, degree = degree, epsilon = 0.05)\n",
    "                    model.fit(X_train, y_train)\n",
    "            \n",
    "                    # Evaluate the model\n",
    "                    conf_matrix, report = evaluate_model(X_test, y_test, model)\n",
    "                    score = report['accuracy']\n",
    "            \n",
    "                    # Conditionally update the best model parameters\n",
    "                    if score > hi_score:\n",
    "                        hi_score = score\n",
    "                        best_model = model\n",
    "                        seed = random_seed\n",
    "                        best_gamma = gamma\n",
    "                        best_kernel = kernel\n",
    "                        best_degree = degree\n",
    "\n",
    "    return best_model, hi_score, seed, best_gamma, best_kernel, best_degree"
   ]
  },
  {
   "cell_type": "code",
   "execution_count": 161,
   "id": "854b0962-2726-48c4-b884-ab9b34cb063e",
   "metadata": {},
   "outputs": [],
   "source": [
    "# Running and timing the optimization function\n",
    "'''\n",
    "start = time.time()\n",
    "best_SVR_model, hi_score, seed, best_gamma, best_kernel, best_degree = optimize_SVR_model(X, y)\n",
    "end = time.time()\n",
    "elapsed_time = end - start\n",
    "\n",
    "print('Execution time:', time.strftime('%M:%S', time.gmtime(elapsed_time)))\n",
    "print(f'The best seed was {seed} with {hi_score*100:.2f}% test data accuracy.')\n",
    "print(f'The best gamma was {best_gamma} and the ideal kernel was {best_kernel}.')\n",
    "''';"
   ]
  },
  {
   "cell_type": "markdown",
   "id": "3fd003c2-13c4-471e-8ac7-7b1e296a5d70",
   "metadata": {},
   "source": [
    "Code output: \\\n",
    "Execution time: 00:22. \\\n",
    "The best seed was 245 with 75.41% test data accuracy. \\\n",
    "The best gamma was scale and the ideal kernel was rbf."
   ]
  },
  {
   "cell_type": "code",
   "execution_count": 160,
   "id": "d0c9b486-63aa-433c-aa4e-9e853dbcd750",
   "metadata": {},
   "outputs": [
    {
     "name": "stdout",
     "output_type": "stream",
     "text": [
      "[[13  3]\n",
      " [ 3 13]]\n",
      "0.8125\n"
     ]
    }
   ],
   "source": [
    "# Building the optimal model\n",
    "best_SVR_model = SVR(gamma = 'scale', kernel = 'rbf', epsilon = 0.05)\n",
    "X_train, X_test, y_train, y_test = create_split(X, y, 245)\n",
    "best_SVR_model.fit(X_train, y_train)\n",
    "# Evaluate model on holdout data\n",
    "conf_matrix, report = evaluate_model(X_hold, y_hold, best_SVR_model)\n",
    "print(conf_matrix)\n",
    "print(report['accuracy'])"
   ]
  },
  {
   "cell_type": "markdown",
   "id": "fb1fccc0-ce08-480e-8c67-92263fbcf410",
   "metadata": {},
   "source": [
    "The Support Vector Regressor achieved the highest accuracy so far, with 13 out of 16 correct picks. I'm curious to know how many of those picks are in common with the Random Forest Regressor. I'll compare all the picks after evaluating the rest of the model types."
   ]
  },
  {
   "cell_type": "markdown",
   "id": "71dba3f5-1bfe-4d13-9ac2-d4b4391b599d",
   "metadata": {
    "jp-MarkdownHeadingCollapsed": true
   },
   "source": [
    "## LightGBM Regression ##\n",
    "LGBM Regression isn't terribly different from Random Forest Regression, but it has more parameters to tune and can achieve better performance, depending on the data and parameters."
   ]
  },
  {
   "cell_type": "code",
   "execution_count": 217,
   "id": "69394b6e-30e4-4c85-93d7-9cc1c7483fd9",
   "metadata": {},
   "outputs": [],
   "source": [
    "def optimize_GBM_model(X, y):\n",
    "    ''' (DataFrame, DataFrame) -> model, float, int\n",
    "    Returns the best performing linear regression model as well as its accuracy score and the random\n",
    "    seed which generated the train-test split of the input data.\n",
    "    '''\n",
    "    hi_score = 0\n",
    "    best_model = None\n",
    "    seed = None\n",
    "    best_boost = None\n",
    "    best_leaves = None\n",
    "    best_depth = None\n",
    "\n",
    "    # Pick random seeds\n",
    "    seed_list = [random.randint(0, 1000) for _ in range(25)]\n",
    "    # Pick boosting type\n",
    "    boost_list = ['gbdt', 'dart']\n",
    "    # Pick number of leaves\n",
    "    leaf_list = [3, 5, 7]\n",
    "    # Set max depth\n",
    "    depth_list = [3, 5, 7]\n",
    "    \n",
    "    for random_seed in seed_list:\n",
    "        for boost in boost_list:\n",
    "            for leaf in leaf_list:\n",
    "                for depth in depth_list:\n",
    "                    # Create a new split and model for each seed\n",
    "                    X_train, X_test, y_train, y_test = create_split(X, y, random_seed)\n",
    "                    # Train a new model on the split\n",
    "                    model = LGBMRegressor(random_state = 14, num_leaves = leaf, max_depth = depth, boosting_type = boost, min_data_in_leaf = 15, verbosity = -1, force_col_wise = True)\n",
    "                    model.fit(X_train, y_train)\n",
    "            \n",
    "                    # Evaluate the model\n",
    "                    conf_matrix, report = evaluate_model(X_test, y_test, model)\n",
    "                    score = report['accuracy']\n",
    "            \n",
    "                    # Conditionally update the best model parameters\n",
    "                    if score > hi_score:\n",
    "                        hi_score = score\n",
    "                        best_model = model\n",
    "                        seed = random_seed\n",
    "                        best_boost = boost\n",
    "                        best_depth = depth\n",
    "                        best_leaves = leaf\n",
    "\n",
    "    return best_model, hi_score, seed, best_boost, best_depth, best_leaves"
   ]
  },
  {
   "cell_type": "code",
   "execution_count": 233,
   "id": "733bb2f3-b17d-4f6f-a47a-02f0a9aad82d",
   "metadata": {},
   "outputs": [],
   "source": [
    "'''\n",
    "start = time.time()\n",
    "best_GBM_model, hi_score, seed, best_boost, best_depth, best_leaves = optimize_GBM_model(X, y)\n",
    "end = time.time()\n",
    "elapsed_time = end - start\n",
    "\n",
    "print('Execution time:', time.strftime('%M:%S', time.gmtime(elapsed_time)))\n",
    "print(f'The best seed was {seed} with {hi_score*100:.2f}% test data accuracy.')\n",
    "print(f'The best boost was {best_boost}, the best number of leaves was {best_leaves}, and the ideal depth was {best_depth}.')\n",
    "''';"
   ]
  },
  {
   "cell_type": "markdown",
   "id": "79ad62bb-9d2f-4e05-94a9-11b4a9683bc1",
   "metadata": {},
   "source": [
    "Code output: \\\n",
    "Execution time: 01:15 \\\n",
    "The best seed was 20 with 83.74% test data accuracy. \\\n",
    "The best boost was dart, the best number of leaves was 7, and the ideal depth was 5."
   ]
  },
  {
   "cell_type": "code",
   "execution_count": 229,
   "id": "fbfe448b-78cd-43f2-93e9-394f255e9e02",
   "metadata": {},
   "outputs": [
    {
     "name": "stdout",
     "output_type": "stream",
     "text": [
      "[[12  4]\n",
      " [ 4 12]]\n",
      "0.75\n"
     ]
    }
   ],
   "source": [
    "# Building the optimal model\n",
    "best_GBM_model = LGBMRegressor(boosting_type = 'dart', num_leaves = 7, max_depth = 5, random_state = 14, min_data_in_leaf = 15, verbosity = -1, force_col_wise = True)\n",
    "X_train, X_test, y_train, y_test = create_split(X, y, 20)\n",
    "best_GBM_model.fit(X_train, y_train)\n",
    "# Evaluate model on holdout data\n",
    "conf_matrix, report = evaluate_model(X_hold, y_hold, best_GBM_model)\n",
    "print(conf_matrix)\n",
    "print(report['accuracy'])"
   ]
  },
  {
   "cell_type": "markdown",
   "id": "b34a1661-ac32-4ff0-b55e-697481c1619e",
   "metadata": {},
   "source": [
    "The LightGBM Regressor model has also hit the 75% accuracy threshold. I'll try a couple more types of model to see if it's possible to consistently improve on this number."
   ]
  },
  {
   "cell_type": "markdown",
   "id": "23584ee6-4d44-41c6-bba2-ca8602b7944d",
   "metadata": {
    "jp-MarkdownHeadingCollapsed": true
   },
   "source": [
    "## Polynomial Regression ##\n",
    "Trying a variety of polynomial curves might fit better than linear models did earlier."
   ]
  },
  {
   "cell_type": "code",
   "execution_count": 237,
   "id": "98cb83de-e3fe-4ec1-84bc-d42ce051d2f4",
   "metadata": {},
   "outputs": [],
   "source": [
    "# Optimizing the polynomial model\n",
    "def optimize_poly_model(X, y):\n",
    "    ''' (DataFrame, DataFrame) -> model, float, int\n",
    "    Returns the best performing linear regression model as well as its accuracy score and the random\n",
    "    seed which generated the train-test split of the input data.\n",
    "    '''\n",
    "    hi_score = 0\n",
    "    best_model = None\n",
    "    seed = None\n",
    "    best_degree = None\n",
    "\n",
    "    # Pick random seeds\n",
    "    seed_list = [random.randint(0, 1000) for _ in range(25)]\n",
    "    # Pick polynomial degree\n",
    "    degrees = [2, 3, 4, 5, 6, 7]\n",
    "    \n",
    "    for random_seed in seed_list:\n",
    "        for degree in degrees:\n",
    "            # Create a new split and model for each seed\n",
    "            X_train, X_test, y_train, y_test = create_split(X, y, random_seed)\n",
    "\n",
    "            # Fit each model\n",
    "            poly = PolynomialFeatures(degree=degree)\n",
    "            X_train_poly = poly.fit_transform(X_train)\n",
    "            X_test_poly = poly.transform(X_test)\n",
    "            model = LinearRegression()\n",
    "            model.fit(X_train_poly, y_train)\n",
    "    \n",
    "            # Evaluate the model\n",
    "            conf_matrix, report = evaluate_model(X_test_poly, y_test, model)\n",
    "            score = report['accuracy']\n",
    "    \n",
    "            # Conditionally update the best model parameters\n",
    "            if score > hi_score:\n",
    "                hi_score = score\n",
    "                best_model = model\n",
    "                seed = random_seed\n",
    "                best_degree = degree\n",
    "\n",
    "    return best_model, hi_score, seed, best_degree"
   ]
  },
  {
   "cell_type": "code",
   "execution_count": 240,
   "id": "51d55015-7364-4c6d-98be-da225b1cb28d",
   "metadata": {},
   "outputs": [],
   "source": [
    "'''\n",
    "start = time.time()\n",
    "best_poly_model, hi_score, seed, degree = optimize_poly_model(X, y)\n",
    "end = time.time()\n",
    "elapsed_time = end - start\n",
    "\n",
    "print('Execution time:', time.strftime('%M:%S', time.gmtime(elapsed_time)))\n",
    "print(f'The best seed was {seed} with {hi_score*100:.2f}% test data accuracy.')\n",
    "print(f'The best degree was {best_degree}.')\n",
    "''';"
   ]
  },
  {
   "cell_type": "markdown",
   "id": "e9d8d74e-cb02-49c7-933b-734cb1a98e12",
   "metadata": {},
   "source": [
    "Code output: \\\n",
    "Execution time: 01:13 \\\n",
    "The best seed was 239 with 75.81% test data accuracy. \\\n",
    "The best degree was 2."
   ]
  },
  {
   "cell_type": "code",
   "execution_count": 239,
   "id": "706055b5-127f-4654-be61-d9caf671d4d7",
   "metadata": {},
   "outputs": [
    {
     "name": "stdout",
     "output_type": "stream",
     "text": [
      "[[13  3]\n",
      " [ 3 13]]\n",
      "0.8125\n"
     ]
    }
   ],
   "source": [
    "# Building the optimal model\n",
    "poly = PolynomialFeatures(degree=2)\n",
    "X_train, X_test, y_train, y_test = create_split(X, y, 239)\n",
    "X_train_poly = poly.fit_transform(X_train)\n",
    "X_hold_poly = poly.transform(X_hold)\n",
    "model = LinearRegression()\n",
    "model.fit(X_train_poly, y_train)\n",
    "# Evaluate model on holdout data\n",
    "conf_matrix, report = evaluate_model(X_hold_poly, y_hold, model)\n",
    "print(conf_matrix)\n",
    "print(report['accuracy'])"
   ]
  },
  {
   "cell_type": "markdown",
   "id": "216346b5-63ab-4c07-9215-a28db39d0640",
   "metadata": {},
   "source": [
    "While the 2nd degree polynomial didn't overfit the test data, it performed as well as anything I've seen so far on the holdout data. This is a somewhat surprising development."
   ]
  },
  {
   "cell_type": "markdown",
   "id": "f18de86e-caf3-4275-89dd-65db12d3cb2c",
   "metadata": {},
   "source": [
    "## Next Steps ##\n",
    "* Try Bayesian regression\n",
    "* Take an ensemble approach using some or all of the above\n",
    "* Visualize models (train, test, holdout data and fit curves)"
   ]
  }
 ],
 "metadata": {
  "kernelspec": {
   "display_name": "Python 3 (ipykernel)",
   "language": "python",
   "name": "python3"
  },
  "language_info": {
   "codemirror_mode": {
    "name": "ipython",
    "version": 3
   },
   "file_extension": ".py",
   "mimetype": "text/x-python",
   "name": "python",
   "nbconvert_exporter": "python",
   "pygments_lexer": "ipython3",
   "version": "3.9.13"
  }
 },
 "nbformat": 4,
 "nbformat_minor": 5
}
