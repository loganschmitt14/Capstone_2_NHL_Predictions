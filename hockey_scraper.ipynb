{
 "cells": [
  {
   "cell_type": "markdown",
   "id": "3541924e-b4a9-4b52-894f-213848b7b5b7",
   "metadata": {},
   "source": [
    "#### Import necessary packages ####\n",
    "Use Pandas for reading HTML packages and CSV for saving data. Use time to limit requests per minute."
   ]
  },
  {
   "cell_type": "code",
   "execution_count": 1,
   "id": "5ceb5829-47b1-418a-be07-74b6e3382430",
   "metadata": {},
   "outputs": [],
   "source": [
    "# Import packages\n",
    "import pandas as pd\n",
    "import csv\n",
    "import time\n",
    "import html5lib\n",
    "import requests\n",
    "import configparser"
   ]
  },
  {
   "cell_type": "markdown",
   "id": "29d4befe-5d81-4dd2-b240-dd50d39a3323",
   "metadata": {
    "tags": []
   },
   "source": [
    "#### Create a dictionary of NHL team names and their standard abbreviations ####\n",
    "This will be useful later when the HTML tables use inconsistent naming. Make sure the NHL hasn't added or relocated any franchises since 2023 or this dictionary will be outdated! "
   ]
  },
  {
   "cell_type": "code",
   "execution_count": 2,
   "id": "676a6952-01a9-42d0-8007-856a054329ab",
   "metadata": {},
   "outputs": [],
   "source": [
    "# Dictionary of names and abbreviations\n",
    "abbr = {\n",
    "    'Anaheim Ducks': 'ANA',\n",
    "    'Arizona Coyotes': 'ARI',\n",
    "    'Atlanta Thrashers': 'ATL',\n",
    "    'Boston Bruins': 'BOS',\n",
    "    'Buffalo Sabres': 'BUF',\n",
    "    'Calgary Flames': 'CGY',\n",
    "    'Carolina Hurricanes': 'CAR',\n",
    "    'Chicago Blackhawks': 'CHI',\n",
    "    'Colorado Avalanche': 'COL',\n",
    "    'Columbus Blue Jackets': 'CBJ',\n",
    "    'Dallas Stars': 'DAL',\n",
    "    'Detroit Red Wings': 'DET',\n",
    "    'Edmonton Oilers': 'EDM',\n",
    "    'Florida Panthers': 'FLA',\n",
    "    'Los Angeles Kings': 'LAK',\n",
    "    'Mighty Ducks of Anaheim': 'MDA',\n",
    "    'Minnesota Wild': 'MIN',\n",
    "    'Montreal Canadiens': 'MTL',\n",
    "    'Nashville Predators': 'NSH',\n",
    "    'New Jersey Devils': 'NJD',\n",
    "    'New York Islanders': 'NYI',\n",
    "    'New York Rangers': 'NYR',\n",
    "    'Ottawa Senators': 'OTT',\n",
    "    'Philadelphia Flyers': 'PHI',\n",
    "    'Phoenix Coyotes': 'PHX',\n",
    "    'Pittsburgh Penguins': 'PIT',\n",
    "    'San Jose Sharks': 'SJS',\n",
    "    'Seattle Kraken': 'SEA',\n",
    "    'St. Louis Blues': 'STL',\n",
    "    'Tampa Bay Lightning': 'TBL',\n",
    "    'Toronto Maple Leafs': 'TOR',\n",
    "    'Vancouver Canucks': 'VAN',\n",
    "    'Vegas Golden Knights': 'VEG',\n",
    "    'Washington Capitals': 'WSH',\n",
    "    'Winnipeg Jets': 'WPG'\n",
    "}"
   ]
  },
  {
   "cell_type": "markdown",
   "id": "81d5cdc3-b435-42be-991b-3316432afd98",
   "metadata": {},
   "source": [
    "#### Read the config file ####\n",
    "The data source site doesn't want to be used for model training, so I can't say where the data came from."
   ]
  },
  {
   "cell_type": "code",
   "execution_count": 3,
   "id": "ea9e9ca9-737c-4ce7-9f6a-0483ffc101da",
   "metadata": {},
   "outputs": [],
   "source": [
    "config = configparser.ConfigParser()\n",
    "config.read('config.ini');"
   ]
  },
  {
   "cell_type": "markdown",
   "id": "151d1943-eace-436b-a4b9-2e45256ee2ba",
   "metadata": {},
   "source": [
    "#### Create a list of NHL team abbreviations ####\n",
    "Make sure this list is the same length as our hard-coded dictionary of abbreviations. If not, the NHL may have added (or removed) a franchise, so update the dictionary accordingly! "
   ]
  },
  {
   "cell_type": "code",
   "execution_count": 4,
   "id": "0e225a8a-b8b5-4cf3-8eb7-28f45508ea1e",
   "metadata": {},
   "outputs": [],
   "source": [
    "# Generate list of team abbreviations\n",
    "def create_teams():\n",
    "    ''' (none) -> list of str\n",
    "    Return a list of current NHL teams (and some outdated ones).\n",
    "    '''\n",
    "    homeurl = config['HR']['home']\n",
    "    dfs = pd.read_html(homeurl)\n",
    "\n",
    "    east = dfs[0]['Eastern'].values.tolist()\n",
    "    east.remove('Atlantic')\n",
    "    east.remove('Metropolitan')\n",
    "    east_teams = [item.replace('*', '') for item in east]\n",
    "\n",
    "    west = dfs[1]['Western'].values.tolist()\n",
    "    west.remove('Pacific')\n",
    "    west.remove('Central')\n",
    "    west_teams = [item.replace('*', '') for item in west]\n",
    "    teams = east_teams + west_teams\n",
    "\n",
    "    # Manually add Atlanta and Mighty Ducks of Anaheim so we can access those URLs\n",
    "    teams.extend(['ATL', 'MDA', 'PHX'])\n",
    "    return teams"
   ]
  },
  {
   "cell_type": "code",
   "execution_count": 5,
   "id": "927c27da-37b6-4d14-9856-5a4f6d4796a6",
   "metadata": {},
   "outputs": [
    {
     "data": {
      "text/plain": [
       "True"
      ]
     },
     "execution_count": 5,
     "metadata": {},
     "output_type": "execute_result"
    }
   ],
   "source": [
    "teams = create_teams()\n",
    "len(teams) == len(abbr)"
   ]
  },
  {
   "cell_type": "markdown",
   "id": "5ef7417b-e531-4bc9-a435-45cee29950e6",
   "metadata": {},
   "source": [
    "#### Create a list of strings representing each season since the start of the salary cap era #### \n",
    "This list is hardcoded to end with 2023, which represents the 2022-2023 season."
   ]
  },
  {
   "cell_type": "code",
   "execution_count": 6,
   "id": "7384e78b-fb60-4044-b3e3-7e14627d76c1",
   "metadata": {},
   "outputs": [],
   "source": [
    "# Post-lockout seasons list as strings\n",
    "seasons = list(range(2006, 2024))"
   ]
  },
  {
   "cell_type": "markdown",
   "id": "515c724f-f713-4035-aa32-431527b1cca8",
   "metadata": {},
   "source": [
    "#### Write function to create standings_df DataFrame for given season ####\n",
    "Use Pandas to read the HTML table of the season. Combine East/West standings_df and eliminate division labels. Clean up columns and team names, adding a column for playoff status. "
   ]
  },
  {
   "cell_type": "code",
   "execution_count": 7,
   "id": "a5eeaf92-37ac-48cc-9d30-9d94b31f020f",
   "metadata": {},
   "outputs": [],
   "source": [
    "def create_standings_df(season):\n",
    "    ''' (int) -> DataFrame\n",
    "    \n",
    "    Return a DataFrame containing the NHL standings for the season *ending* in the specified year.\n",
    "    Use this function to generate the DataFrame that function create_team_df accepts as an argument.\n",
    "    \n",
    "    >>> create_standings_df('2019')\n",
    "    '''\n",
    "    seasonurlprefix = config['HR']['season']\n",
    "    seasonurl = f'{seasonurlprefix}{str(season)}.html'\n",
    "    \n",
    "    try: \n",
    "        response = requests.get(seasonurl)\n",
    "        response.raise_for_status()\n",
    "        \n",
    "        dfs = pd.read_html(seasonurl)\n",
    "        standings_df = pd.concat([dfs[0], dfs[1]]).reset_index(drop = True)\n",
    "        standings_df.rename(columns={'Unnamed: 0': 'Team'}, inplace = True)\n",
    "\n",
    "        standings_df = standings_df[standings_df['Team'].str.contains('Division')==False]\n",
    "        standings_df['Playoffs'] = standings_df['Team'].str.contains('\\*')\n",
    "        standings_df['Team'] = standings_df['Team'].str.replace('\\*', '', regex = True)\n",
    "        standings_df['Team'] = standings_df['Team'].map(abbr)\n",
    "\n",
    "        cols = ['Team', 'PTS', 'GP', 'W', 'L', 'OL', 'PTS%', 'GF', 'GA', 'Playoffs']\n",
    "        standings_df = standings_df[cols]\n",
    "\n",
    "        standings_df = standings_df.astype({'GP': 'int', 'W': 'int', 'L': 'int', 'OL': 'int', 'PTS': 'int', 'PTS%': 'float', 'GF': 'int', 'GA': 'int'})\n",
    "        standings_df = standings_df.sort_values('PTS', ascending = False).reset_index(drop = True)\n",
    "    \n",
    "    except:\n",
    "        print(f'Error {seasonurl}')\n",
    "        \n",
    "    return standings_df"
   ]
  },
  {
   "cell_type": "markdown",
   "id": "c00a3676-c9e8-41dc-8187-d84a082af010",
   "metadata": {},
   "source": [
    "#### Write function to create team_df DataFrame for a given team in the given season ####\n",
    "Use Pandas to read the HTML table of the team during the specified season. Clean up multi-level columns. Eliminate columns that aren't available for all years. Add columns for team and playoff status."
   ]
  },
  {
   "cell_type": "code",
   "execution_count": 8,
   "id": "bc6af4b0-0610-47f3-8e04-046fdf25ef1d",
   "metadata": {},
   "outputs": [],
   "source": [
    "def create_team_df(standings_df, season, team):\n",
    "    ''' (DataFrame, int, string) -> DataFrame\n",
    "    \n",
    "    Return a DataFrame containing the NHL player statistics for the specified team during the season *ending* in the specified year.\n",
    "    Use function 'create_standings_df' to generate standings_df.\n",
    "    \n",
    "    >>> create_team_df(standings_df, '2016', 'PIT')\n",
    "    '''\n",
    "    teamurlprefix = config['HR']['team']\n",
    "    teamurl = f'{teamurlprefix}{team}/{str(season)}.html'\n",
    "    \n",
    "    try:\n",
    "        response = requests.get(teamurl)\n",
    "        response.raise_for_status()\n",
    "        \n",
    "        dfs = pd.read_html(teamurl)\n",
    "        # The Vegas 2023 season page has an additional HTML table, so read table 4 from that page\n",
    "        tableno = 3 + (team == 'VEG' and season == '2023')\n",
    "        team_df = dfs[tableno]\n",
    "        team_df.columns = team_df.columns.droplevel(0)\n",
    "        cols = ['Player', 'Age', 'Pos', 'GP', 'G', 'A', 'PTS', '+/-', 'PIM', 'S', 'S%', 'OPS',\n",
    "       'DPS', 'PS']\n",
    "        team_df = team_df[cols]\n",
    "        gf = standings_df.loc[standings_df['Team'] == team, 'GF'].iloc[0]\n",
    "        playoffs = standings_df.loc[standings_df['Team'] == team, 'Playoffs'].iloc[0]\n",
    "        team_df = team_df.assign(Team = team, Playoffs = playoffs, Season = season)\n",
    "        team_df = team_df.dropna(subset = ['Age']).fillna(0)\n",
    "        \n",
    "    except requests.exceptions.RequestException as e:\n",
    "        print(f'Error {teamurl}')\n",
    "    return team_df"
   ]
  },
  {
   "cell_type": "markdown",
   "id": "775f88f3-592d-4f80-a96d-90d7a68ec188",
   "metadata": {},
   "source": [
    "#### Write function to create a DataFrame for each season ####\n",
    "Source blocks users sending more than 20 requests per minute, so wait 5 seconds between requests."
   ]
  },
  {
   "cell_type": "code",
   "execution_count": 9,
   "id": "0ae93761-fffd-48a5-863b-2c7b8713a8c3",
   "metadata": {},
   "outputs": [],
   "source": [
    "def create_season_df(season, teams):\n",
    "    ''' (int, list of strings) -> DataFrame\n",
    "    \n",
    "    Returns a DataFrame containing all player statistics from each NHL team in the\n",
    "    \"teams\" list for the season *ending* in the given year.\n",
    "    \n",
    "    >>> create_season_df('2016', teams)\n",
    "    '''\n",
    "    standings_df = create_standings_df(season)\n",
    "    season_df = pd.DataFrame()\n",
    "    \n",
    "    for team in teams:\n",
    "        team_df = create_team_df(standings_df, season, team)\n",
    "        season_df = pd.concat([season_df, team_df])\n",
    "        time.sleep(5) \n",
    "        \n",
    "    return season_df"
   ]
  },
  {
   "cell_type": "markdown",
   "id": "57eb553f-3fd3-468e-ab92-85a7c7a8fff9",
   "metadata": {},
   "source": [
    "#### Write function to create a DataFrame for a range of seasons ####\n",
    "Call create_season_df for each season, passing lists based on which teams were in the league that year."
   ]
  },
  {
   "cell_type": "code",
   "execution_count": 10,
   "id": "7dc2c0e0-e729-4c4a-9210-d392eab6b54c",
   "metadata": {},
   "outputs": [],
   "source": [
    "def scrape_data(seasons, teams):\n",
    "    ''' (list int, list of strings) -> DataFrame\n",
    "        Returns a DataFrame containing all player statistics from each NHL team in the \"teams\" list\n",
    "        for the all seasons in the \"seasons\" list.\n",
    "    \n",
    "    >>> scrape_data(seasons, teams)\n",
    "    '''\n",
    "    NHL_data = pd.DataFrame()\n",
    "    \n",
    "    # Mighty Ducks of Anaheim are abbreviated as \"MDA\"\n",
    "    teams2006 = list(set(teams) - set(['WPG', 'SEA', 'VEG', 'ANA', 'ARI']))\n",
    "    # Ducks rebrand to Anaheim Ducks, abbreviated \"ANA\"\n",
    "    teams2007 = list(set(teams) - set(['WPG', 'SEA', 'VEG', 'MDA', 'ARI']))\n",
    "    # Atlanta Thrashers become Winnipeg Jets\n",
    "    teams2012 = list(set(teams) - set(['ATL', 'SEA', 'VEG', 'MDA', 'ARI']))\n",
    "    # Phoenix Coyotes rebrand to Arizona Coyotes\n",
    "    teams2015 = list(set(teams) - set(['ATL', 'SEA', 'VEG', 'MDA', 'PHX']))\n",
    "    # Vegas Golden Knights enter the league\n",
    "    teams2018 = list(set(teams) - set(['ATL', 'SEA', 'MDA', 'PHX']))\n",
    "    # Seattle Kraken enter the league\n",
    "    teams2022 = list(set(teams) - set(['ATL', 'MDA', 'PHX']))\n",
    "    \n",
    "    for season in seasons:\n",
    "        if season == 2006:\n",
    "            season_df = create_season_df(season, teams2006)\n",
    "        elif season < 2012:\n",
    "            season_df = create_season_df(season, teams2007)\n",
    "        elif season >= 2012 and season < 2015:\n",
    "            season_df = create_season_df(season, teams2012)\n",
    "        elif season >= 2015 and season < 2018:\n",
    "            season_df = create_season_df(season, teams2015)\n",
    "        elif season >= 2018 and season < 2022:\n",
    "            season_df = create_season_df(season, teams2018)\n",
    "        else:\n",
    "            season_df = create_season_df(season, teams2022)\n",
    "            \n",
    "        NHL_data = pd.concat([NHL_data, season_df])\n",
    "    return NHL_data"
   ]
  },
  {
   "cell_type": "markdown",
   "id": "af24bad0-bf22-49aa-a82a-2e3caa7e0a84",
   "metadata": {},
   "source": [
    "#### Scrape data into a DataFrame ####\n",
    "Make sure data pass the eye test"
   ]
  },
  {
   "cell_type": "code",
   "execution_count": 11,
   "id": "2cadf227-234c-48aa-820e-ae18642738a0",
   "metadata": {},
   "outputs": [
    {
     "name": "stdout",
     "output_type": "stream",
     "text": [
      "Execution time: 48:45\n"
     ]
    }
   ],
   "source": [
    "start = time.time()\n",
    "nhl_data = scrape_data(seasons, teams)\n",
    "end = time.time()\n",
    "elapsed_time = end - start\n",
    "print('Execution time:', time.strftime('%M:%S', time.gmtime(elapsed_time)))"
   ]
  },
  {
   "cell_type": "code",
   "execution_count": 12,
   "id": "7c2edbe8-adeb-4008-b76a-1b03084dbebb",
   "metadata": {},
   "outputs": [
    {
     "data": {
      "text/plain": [
       "(19183, 17)"
      ]
     },
     "execution_count": 12,
     "metadata": {},
     "output_type": "execute_result"
    }
   ],
   "source": [
    "nhl_data.shape"
   ]
  },
  {
   "cell_type": "code",
   "execution_count": 13,
   "id": "7c929337-b13e-46f3-b8c0-aa0f9325c4b6",
   "metadata": {},
   "outputs": [
    {
     "data": {
      "text/html": [
       "<div>\n",
       "<style scoped>\n",
       "    .dataframe tbody tr th:only-of-type {\n",
       "        vertical-align: middle;\n",
       "    }\n",
       "\n",
       "    .dataframe tbody tr th {\n",
       "        vertical-align: top;\n",
       "    }\n",
       "\n",
       "    .dataframe thead th {\n",
       "        text-align: right;\n",
       "    }\n",
       "</style>\n",
       "<table border=\"1\" class=\"dataframe\">\n",
       "  <thead>\n",
       "    <tr style=\"text-align: right;\">\n",
       "      <th></th>\n",
       "      <th>Age</th>\n",
       "      <th>GP</th>\n",
       "      <th>G</th>\n",
       "      <th>A</th>\n",
       "      <th>PTS</th>\n",
       "      <th>+/-</th>\n",
       "      <th>PIM</th>\n",
       "      <th>S</th>\n",
       "      <th>S%</th>\n",
       "      <th>OPS</th>\n",
       "      <th>DPS</th>\n",
       "      <th>PS</th>\n",
       "      <th>Season</th>\n",
       "    </tr>\n",
       "  </thead>\n",
       "  <tbody>\n",
       "    <tr>\n",
       "      <th>count</th>\n",
       "      <td>19183.000000</td>\n",
       "      <td>19183.000000</td>\n",
       "      <td>19183.000000</td>\n",
       "      <td>19183.000000</td>\n",
       "      <td>19183.000000</td>\n",
       "      <td>19183.000000</td>\n",
       "      <td>19183.000000</td>\n",
       "      <td>19183.000000</td>\n",
       "      <td>19183.000000</td>\n",
       "      <td>19183.000000</td>\n",
       "      <td>19183.000000</td>\n",
       "      <td>19183.000000</td>\n",
       "      <td>19183.000000</td>\n",
       "    </tr>\n",
       "    <tr>\n",
       "      <th>mean</th>\n",
       "      <td>26.750925</td>\n",
       "      <td>42.484909</td>\n",
       "      <td>6.328885</td>\n",
       "      <td>10.820049</td>\n",
       "      <td>17.148934</td>\n",
       "      <td>-0.317886</td>\n",
       "      <td>23.941354</td>\n",
       "      <td>67.657457</td>\n",
       "      <td>6.872038</td>\n",
       "      <td>1.034192</td>\n",
       "      <td>1.004822</td>\n",
       "      <td>2.435088</td>\n",
       "      <td>2014.646510</td>\n",
       "    </tr>\n",
       "    <tr>\n",
       "      <th>std</th>\n",
       "      <td>4.466326</td>\n",
       "      <td>28.268683</td>\n",
       "      <td>8.551189</td>\n",
       "      <td>12.837838</td>\n",
       "      <td>20.322113</td>\n",
       "      <td>8.975120</td>\n",
       "      <td>27.793149</td>\n",
       "      <td>69.338058</td>\n",
       "      <td>7.809564</td>\n",
       "      <td>1.877440</td>\n",
       "      <td>1.224246</td>\n",
       "      <td>2.936748</td>\n",
       "      <td>5.234457</td>\n",
       "    </tr>\n",
       "    <tr>\n",
       "      <th>min</th>\n",
       "      <td>18.000000</td>\n",
       "      <td>1.000000</td>\n",
       "      <td>0.000000</td>\n",
       "      <td>0.000000</td>\n",
       "      <td>0.000000</td>\n",
       "      <td>-47.000000</td>\n",
       "      <td>0.000000</td>\n",
       "      <td>0.000000</td>\n",
       "      <td>0.000000</td>\n",
       "      <td>-2.300000</td>\n",
       "      <td>-1.000000</td>\n",
       "      <td>-1.900000</td>\n",
       "      <td>2006.000000</td>\n",
       "    </tr>\n",
       "    <tr>\n",
       "      <th>25%</th>\n",
       "      <td>23.000000</td>\n",
       "      <td>15.000000</td>\n",
       "      <td>0.000000</td>\n",
       "      <td>1.000000</td>\n",
       "      <td>1.000000</td>\n",
       "      <td>-4.000000</td>\n",
       "      <td>4.000000</td>\n",
       "      <td>8.000000</td>\n",
       "      <td>0.000000</td>\n",
       "      <td>0.000000</td>\n",
       "      <td>0.100000</td>\n",
       "      <td>0.200000</td>\n",
       "      <td>2010.000000</td>\n",
       "    </tr>\n",
       "    <tr>\n",
       "      <th>50%</th>\n",
       "      <td>26.000000</td>\n",
       "      <td>44.000000</td>\n",
       "      <td>3.000000</td>\n",
       "      <td>6.000000</td>\n",
       "      <td>9.000000</td>\n",
       "      <td>0.000000</td>\n",
       "      <td>16.000000</td>\n",
       "      <td>46.000000</td>\n",
       "      <td>6.000000</td>\n",
       "      <td>0.200000</td>\n",
       "      <td>0.600000</td>\n",
       "      <td>1.300000</td>\n",
       "      <td>2015.000000</td>\n",
       "    </tr>\n",
       "    <tr>\n",
       "      <th>75%</th>\n",
       "      <td>30.000000</td>\n",
       "      <td>70.000000</td>\n",
       "      <td>9.000000</td>\n",
       "      <td>17.000000</td>\n",
       "      <td>26.000000</td>\n",
       "      <td>3.000000</td>\n",
       "      <td>35.000000</td>\n",
       "      <td>109.000000</td>\n",
       "      <td>10.800000</td>\n",
       "      <td>1.500000</td>\n",
       "      <td>1.500000</td>\n",
       "      <td>3.900000</td>\n",
       "      <td>2019.000000</td>\n",
       "    </tr>\n",
       "    <tr>\n",
       "      <th>max</th>\n",
       "      <td>48.000000</td>\n",
       "      <td>82.000000</td>\n",
       "      <td>65.000000</td>\n",
       "      <td>92.000000</td>\n",
       "      <td>153.000000</td>\n",
       "      <td>64.000000</td>\n",
       "      <td>324.000000</td>\n",
       "      <td>528.000000</td>\n",
       "      <td>100.000000</td>\n",
       "      <td>15.800000</td>\n",
       "      <td>8.100000</td>\n",
       "      <td>18.500000</td>\n",
       "      <td>2023.000000</td>\n",
       "    </tr>\n",
       "  </tbody>\n",
       "</table>\n",
       "</div>"
      ],
      "text/plain": [
       "                Age            GP             G             A           PTS  \\\n",
       "count  19183.000000  19183.000000  19183.000000  19183.000000  19183.000000   \n",
       "mean      26.750925     42.484909      6.328885     10.820049     17.148934   \n",
       "std        4.466326     28.268683      8.551189     12.837838     20.322113   \n",
       "min       18.000000      1.000000      0.000000      0.000000      0.000000   \n",
       "25%       23.000000     15.000000      0.000000      1.000000      1.000000   \n",
       "50%       26.000000     44.000000      3.000000      6.000000      9.000000   \n",
       "75%       30.000000     70.000000      9.000000     17.000000     26.000000   \n",
       "max       48.000000     82.000000     65.000000     92.000000    153.000000   \n",
       "\n",
       "                +/-           PIM             S            S%           OPS  \\\n",
       "count  19183.000000  19183.000000  19183.000000  19183.000000  19183.000000   \n",
       "mean      -0.317886     23.941354     67.657457      6.872038      1.034192   \n",
       "std        8.975120     27.793149     69.338058      7.809564      1.877440   \n",
       "min      -47.000000      0.000000      0.000000      0.000000     -2.300000   \n",
       "25%       -4.000000      4.000000      8.000000      0.000000      0.000000   \n",
       "50%        0.000000     16.000000     46.000000      6.000000      0.200000   \n",
       "75%        3.000000     35.000000    109.000000     10.800000      1.500000   \n",
       "max       64.000000    324.000000    528.000000    100.000000     15.800000   \n",
       "\n",
       "                DPS            PS        Season  \n",
       "count  19183.000000  19183.000000  19183.000000  \n",
       "mean       1.004822      2.435088   2014.646510  \n",
       "std        1.224246      2.936748      5.234457  \n",
       "min       -1.000000     -1.900000   2006.000000  \n",
       "25%        0.100000      0.200000   2010.000000  \n",
       "50%        0.600000      1.300000   2015.000000  \n",
       "75%        1.500000      3.900000   2019.000000  \n",
       "max        8.100000     18.500000   2023.000000  "
      ]
     },
     "execution_count": 13,
     "metadata": {},
     "output_type": "execute_result"
    }
   ],
   "source": [
    "nhl_data.describe()"
   ]
  },
  {
   "cell_type": "code",
   "execution_count": 14,
   "id": "2984778f-88af-4e12-96a2-14f0495a9cb6",
   "metadata": {},
   "outputs": [
    {
     "name": "stdout",
     "output_type": "stream",
     "text": [
      "<class 'pandas.core.frame.DataFrame'>\n",
      "Int64Index: 19183 entries, 0 to 31\n",
      "Data columns (total 17 columns):\n",
      " #   Column    Non-Null Count  Dtype  \n",
      "---  ------    --------------  -----  \n",
      " 0   Player    19183 non-null  object \n",
      " 1   Age       19183 non-null  float64\n",
      " 2   Pos       19183 non-null  object \n",
      " 3   GP        19183 non-null  int64  \n",
      " 4   G         19183 non-null  int64  \n",
      " 5   A         19183 non-null  int64  \n",
      " 6   PTS       19183 non-null  int64  \n",
      " 7   +/-       19183 non-null  float64\n",
      " 8   PIM       19183 non-null  int64  \n",
      " 9   S         19183 non-null  int64  \n",
      " 10  S%        19183 non-null  float64\n",
      " 11  OPS       19183 non-null  float64\n",
      " 12  DPS       19183 non-null  float64\n",
      " 13  PS        19183 non-null  float64\n",
      " 14  Team      19183 non-null  object \n",
      " 15  Playoffs  19183 non-null  bool   \n",
      " 16  Season    19183 non-null  int64  \n",
      "dtypes: bool(1), float64(6), int64(7), object(3)\n",
      "memory usage: 2.5+ MB\n"
     ]
    }
   ],
   "source": [
    "nhl_data.info()"
   ]
  },
  {
   "cell_type": "code",
   "execution_count": 15,
   "id": "1166d408-3a3a-47d6-9e02-2a6f9ebaee26",
   "metadata": {},
   "outputs": [
    {
     "data": {
      "text/plain": [
       "35"
      ]
     },
     "execution_count": 15,
     "metadata": {},
     "output_type": "execute_result"
    }
   ],
   "source": [
    "nhl_data.Team.nunique()"
   ]
  },
  {
   "cell_type": "code",
   "execution_count": 16,
   "id": "a201f267-d477-4d2e-8692-b5c03ac1cae1",
   "metadata": {},
   "outputs": [
    {
     "data": {
      "text/html": [
       "<div>\n",
       "<style scoped>\n",
       "    .dataframe tbody tr th:only-of-type {\n",
       "        vertical-align: middle;\n",
       "    }\n",
       "\n",
       "    .dataframe tbody tr th {\n",
       "        vertical-align: top;\n",
       "    }\n",
       "\n",
       "    .dataframe thead th {\n",
       "        text-align: right;\n",
       "    }\n",
       "</style>\n",
       "<table border=\"1\" class=\"dataframe\">\n",
       "  <thead>\n",
       "    <tr style=\"text-align: right;\">\n",
       "      <th></th>\n",
       "      <th>Player</th>\n",
       "      <th>Age</th>\n",
       "      <th>Pos</th>\n",
       "      <th>GP</th>\n",
       "      <th>G</th>\n",
       "      <th>A</th>\n",
       "      <th>PTS</th>\n",
       "      <th>+/-</th>\n",
       "      <th>PIM</th>\n",
       "      <th>S</th>\n",
       "      <th>S%</th>\n",
       "      <th>OPS</th>\n",
       "      <th>DPS</th>\n",
       "      <th>PS</th>\n",
       "      <th>Team</th>\n",
       "      <th>Playoffs</th>\n",
       "      <th>Season</th>\n",
       "    </tr>\n",
       "  </thead>\n",
       "  <tbody>\n",
       "    <tr>\n",
       "      <th>0</th>\n",
       "      <td>Brian Gionta</td>\n",
       "      <td>27.0</td>\n",
       "      <td>RW</td>\n",
       "      <td>82</td>\n",
       "      <td>48</td>\n",
       "      <td>41</td>\n",
       "      <td>89</td>\n",
       "      <td>18.0</td>\n",
       "      <td>46</td>\n",
       "      <td>291</td>\n",
       "      <td>16.5</td>\n",
       "      <td>8.5</td>\n",
       "      <td>2.9</td>\n",
       "      <td>11.4</td>\n",
       "      <td>NJD</td>\n",
       "      <td>True</td>\n",
       "      <td>2006</td>\n",
       "    </tr>\n",
       "    <tr>\n",
       "      <th>1</th>\n",
       "      <td>Scott Gomez</td>\n",
       "      <td>26.0</td>\n",
       "      <td>C</td>\n",
       "      <td>82</td>\n",
       "      <td>33</td>\n",
       "      <td>51</td>\n",
       "      <td>84</td>\n",
       "      <td>8.0</td>\n",
       "      <td>42</td>\n",
       "      <td>244</td>\n",
       "      <td>13.5</td>\n",
       "      <td>6.9</td>\n",
       "      <td>2.4</td>\n",
       "      <td>9.2</td>\n",
       "      <td>NJD</td>\n",
       "      <td>True</td>\n",
       "      <td>2006</td>\n",
       "    </tr>\n",
       "    <tr>\n",
       "      <th>2</th>\n",
       "      <td>Jamie Langenbrunner</td>\n",
       "      <td>30.0</td>\n",
       "      <td>RW</td>\n",
       "      <td>80</td>\n",
       "      <td>19</td>\n",
       "      <td>34</td>\n",
       "      <td>53</td>\n",
       "      <td>-1.0</td>\n",
       "      <td>74</td>\n",
       "      <td>243</td>\n",
       "      <td>7.8</td>\n",
       "      <td>2.6</td>\n",
       "      <td>2.0</td>\n",
       "      <td>4.6</td>\n",
       "      <td>NJD</td>\n",
       "      <td>True</td>\n",
       "      <td>2006</td>\n",
       "    </tr>\n",
       "    <tr>\n",
       "      <th>3</th>\n",
       "      <td>Brian Rafalski</td>\n",
       "      <td>32.0</td>\n",
       "      <td>D</td>\n",
       "      <td>82</td>\n",
       "      <td>6</td>\n",
       "      <td>43</td>\n",
       "      <td>49</td>\n",
       "      <td>0.0</td>\n",
       "      <td>36</td>\n",
       "      <td>126</td>\n",
       "      <td>4.8</td>\n",
       "      <td>2.9</td>\n",
       "      <td>5.7</td>\n",
       "      <td>8.5</td>\n",
       "      <td>NJD</td>\n",
       "      <td>True</td>\n",
       "      <td>2006</td>\n",
       "    </tr>\n",
       "    <tr>\n",
       "      <th>4</th>\n",
       "      <td>Patrik Eliáš</td>\n",
       "      <td>29.0</td>\n",
       "      <td>LW</td>\n",
       "      <td>38</td>\n",
       "      <td>16</td>\n",
       "      <td>29</td>\n",
       "      <td>45</td>\n",
       "      <td>11.0</td>\n",
       "      <td>20</td>\n",
       "      <td>142</td>\n",
       "      <td>11.3</td>\n",
       "      <td>3.9</td>\n",
       "      <td>1.4</td>\n",
       "      <td>5.2</td>\n",
       "      <td>NJD</td>\n",
       "      <td>True</td>\n",
       "      <td>2006</td>\n",
       "    </tr>\n",
       "  </tbody>\n",
       "</table>\n",
       "</div>"
      ],
      "text/plain": [
       "                Player   Age Pos  GP   G   A  PTS   +/-  PIM    S    S%  OPS  \\\n",
       "0         Brian Gionta  27.0  RW  82  48  41   89  18.0   46  291  16.5  8.5   \n",
       "1          Scott Gomez  26.0   C  82  33  51   84   8.0   42  244  13.5  6.9   \n",
       "2  Jamie Langenbrunner  30.0  RW  80  19  34   53  -1.0   74  243   7.8  2.6   \n",
       "3       Brian Rafalski  32.0   D  82   6  43   49   0.0   36  126   4.8  2.9   \n",
       "4         Patrik Eliáš  29.0  LW  38  16  29   45  11.0   20  142  11.3  3.9   \n",
       "\n",
       "   DPS    PS Team  Playoffs  Season  \n",
       "0  2.9  11.4  NJD      True    2006  \n",
       "1  2.4   9.2  NJD      True    2006  \n",
       "2  2.0   4.6  NJD      True    2006  \n",
       "3  5.7   8.5  NJD      True    2006  \n",
       "4  1.4   5.2  NJD      True    2006  "
      ]
     },
     "execution_count": 16,
     "metadata": {},
     "output_type": "execute_result"
    }
   ],
   "source": [
    "nhl_data.head()"
   ]
  },
  {
   "cell_type": "markdown",
   "id": "09e82072-1800-444c-a475-49aa80caca49",
   "metadata": {},
   "source": [
    "#### Save to CSV ####\n",
    "That code takes ages to run because of the request limiter. Export the data so there's no need to run that again."
   ]
  },
  {
   "cell_type": "code",
   "execution_count": 17,
   "id": "f2f6e645-bde5-4e19-9c2f-3f6fe52380b9",
   "metadata": {},
   "outputs": [],
   "source": [
    "nhl_data.to_csv('nhldata.csv', index = False)"
   ]
  },
  {
   "cell_type": "markdown",
   "id": "aa4de121-3838-4ae2-91ae-5a0fbfbcca28",
   "metadata": {},
   "source": [
    "#### Next Steps ####\n",
    "- Remove asterisks next to Hall of Fame players\n",
    "- Consolidate teams whose names changed (MDA/ANA, PHX/ARI, ATL/WPG)\n",
    "- EDA"
   ]
  }
 ],
 "metadata": {
  "kernelspec": {
   "display_name": "Python 3 (ipykernel)",
   "language": "python",
   "name": "python3"
  },
  "language_info": {
   "codemirror_mode": {
    "name": "ipython",
    "version": 3
   },
   "file_extension": ".py",
   "mimetype": "text/x-python",
   "name": "python",
   "nbconvert_exporter": "python",
   "pygments_lexer": "ipython3",
   "version": "3.9.13"
  }
 },
 "nbformat": 4,
 "nbformat_minor": 5
}
