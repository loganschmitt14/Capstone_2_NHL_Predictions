{
 "cells": [
  {
   "cell_type": "code",
   "execution_count": 1,
   "id": "c027bf37-0a73-414d-855f-2b5dc5bc6034",
   "metadata": {},
   "outputs": [],
   "source": [
    "# Import packages\n",
    "import pandas as pd\n",
    "import csv\n",
    "import time\n",
    "import html5lib\n",
    "import requests\n",
    "import configparser"
   ]
  },
  {
   "cell_type": "code",
   "execution_count": 2,
   "id": "869af5e2-4282-46fd-ac59-5fa4b76dba83",
   "metadata": {},
   "outputs": [],
   "source": [
    "# Dictionary of names and abbreviations\n",
    "abbr = {\n",
    "    'Anaheim Ducks': 'ANA',\n",
    "    'Arizona Coyotes': 'ARI',\n",
    "    'Atlanta Thrashers': 'ATL',\n",
    "    'Boston Bruins': 'BOS',\n",
    "    'Buffalo Sabres': 'BUF',\n",
    "    'Calgary Flames': 'CGY',\n",
    "    'Carolina Hurricanes': 'CAR',\n",
    "    'Chicago Blackhawks': 'CHI',\n",
    "    'Colorado Avalanche': 'COL',\n",
    "    'Columbus Blue Jackets': 'CBJ',\n",
    "    'Dallas Stars': 'DAL',\n",
    "    'Detroit Red Wings': 'DET',\n",
    "    'Edmonton Oilers': 'EDM',\n",
    "    'Florida Panthers': 'FLA',\n",
    "    'Los Angeles Kings': 'LAK',\n",
    "    'Mighty Ducks of Anaheim': 'MDA',\n",
    "    'Minnesota Wild': 'MIN',\n",
    "    'Montreal Canadiens': 'MTL',\n",
    "    'Nashville Predators': 'NSH',\n",
    "    'New Jersey Devils': 'NJD',\n",
    "    'New York Islanders': 'NYI',\n",
    "    'New York Rangers': 'NYR',\n",
    "    'Ottawa Senators': 'OTT',\n",
    "    'Philadelphia Flyers': 'PHI',\n",
    "    'Phoenix Coyotes': 'PHX',\n",
    "    'Pittsburgh Penguins': 'PIT',\n",
    "    'San Jose Sharks': 'SJS',\n",
    "    'Seattle Kraken': 'SEA',\n",
    "    'St. Louis Blues': 'STL',\n",
    "    'Tampa Bay Lightning': 'TBL',\n",
    "    'Toronto Maple Leafs': 'TOR',\n",
    "    'Vancouver Canucks': 'VAN',\n",
    "    'Vegas Golden Knights': 'VEG',\n",
    "    'Washington Capitals': 'WSH',\n",
    "    'Winnipeg Jets': 'WPG'\n",
    "}"
   ]
  },
  {
   "cell_type": "code",
   "execution_count": 3,
   "id": "a0d342be-a2e7-446c-a600-8fcb36d95540",
   "metadata": {},
   "outputs": [],
   "source": [
    "config = configparser.ConfigParser()\n",
    "config.read('config.ini');"
   ]
  },
  {
   "cell_type": "code",
   "execution_count": 4,
   "id": "0101f74d-6375-4aba-ae9e-34c89327a5f6",
   "metadata": {},
   "outputs": [],
   "source": [
    "# Generate list of team abbreviations\n",
    "def create_teams():\n",
    "    ''' (none) -> list of str\n",
    "    Return a list of current NHL teams (and some outdated ones).\n",
    "    '''\n",
    "    homeurl = config['HR']['home']\n",
    "    dfs = pd.read_html(homeurl)\n",
    "\n",
    "    east = dfs[0]['Eastern'].values.tolist()\n",
    "    east.remove('Atlantic')\n",
    "    east.remove('Metropolitan')\n",
    "    east_teams = [item.replace('*', '') for item in east]\n",
    "\n",
    "    west = dfs[1]['Western'].values.tolist()\n",
    "    west.remove('Pacific')\n",
    "    west.remove('Central')\n",
    "    west_teams = [item.replace('*', '') for item in west]\n",
    "    teams = east_teams + west_teams\n",
    "\n",
    "    # Manually add Atlanta and Mighty Ducks of Anaheim so we can access those URLs\n",
    "    teams.extend(['ATL', 'MDA', 'PHX'])\n",
    "    return teams"
   ]
  },
  {
   "cell_type": "code",
   "execution_count": 5,
   "id": "ebe2167d-8b77-440e-bf4a-3c9e82815224",
   "metadata": {},
   "outputs": [
    {
     "data": {
      "text/plain": [
       "True"
      ]
     },
     "execution_count": 5,
     "metadata": {},
     "output_type": "execute_result"
    }
   ],
   "source": [
    "teams = create_teams()\n",
    "len(teams) == len(abbr)"
   ]
  },
  {
   "cell_type": "code",
   "execution_count": 6,
   "id": "d2725dc1-89c1-481f-b489-e875d37ac953",
   "metadata": {},
   "outputs": [],
   "source": [
    "# Post-lockout seasons list as strings\n",
    "seasons = [2024]"
   ]
  },
  {
   "cell_type": "code",
   "execution_count": 8,
   "id": "9fd3ecdd-936f-4a20-8ce3-63c849b92e38",
   "metadata": {},
   "outputs": [],
   "source": [
    "def create_standings_df(season):\n",
    "    ''' (int) -> DataFrame\n",
    "    \n",
    "    Return a DataFrame containing the NHL standings for the season *ending* in the specified year.\n",
    "    Use this function to generate the DataFrame that function create_team_df accepts as an argument.\n",
    "    \n",
    "    >>> create_standings_df('2019')\n",
    "    '''\n",
    "    seasonurlprefix = config['HR']['season']\n",
    "    seasonurl = f'{seasonurlprefix}{str(season)}.html'\n",
    "    \n",
    "    try: \n",
    "        response = requests.get(seasonurl)\n",
    "        response.raise_for_status()\n",
    "        \n",
    "        dfs = pd.read_html(seasonurl)\n",
    "        standings_df = pd.concat([dfs[0], dfs[1]]).reset_index(drop = True)\n",
    "        standings_df.rename(columns={'Unnamed: 0': 'Team'}, inplace = True)\n",
    "\n",
    "        standings_df = standings_df[standings_df['Team'].str.contains('Division')==False]\n",
    "        standings_df['Playoffs'] = standings_df['Team'].str.contains('\\*')\n",
    "        standings_df['Team'] = standings_df['Team'].str.replace('\\*', '', regex = True)\n",
    "        standings_df['Team'] = standings_df['Team'].map(abbr)\n",
    "\n",
    "        cols = ['Team', 'PTS', 'GP', 'W', 'L', 'OL', 'PTS%', 'GF', 'GA', 'Playoffs']\n",
    "        standings_df = standings_df[cols]\n",
    "\n",
    "        standings_df = standings_df.astype({'GP': 'int', 'W': 'int', 'L': 'int', 'OL': 'int', 'PTS': 'int', 'PTS%': 'float', 'GF': 'int', 'GA': 'int'})\n",
    "        standings_df = standings_df.sort_values('PTS', ascending = False).reset_index(drop = True)\n",
    "    \n",
    "    except:\n",
    "        print(f'Error {seasonurl}')\n",
    "        \n",
    "    return standings_df"
   ]
  },
  {
   "cell_type": "code",
   "execution_count": 67,
   "id": "bfd3709b-58a4-4cbd-87ae-694d9a42cd51",
   "metadata": {},
   "outputs": [],
   "source": [
    "def create_team_df(standings_df, season, team):\n",
    "    ''' (DataFrame, int, string) -> DataFrame\n",
    "    \n",
    "    Return a DataFrame containing the NHL player statistics for the specified team during the season *ending* in the specified year.\n",
    "    Use function 'create_standings_df' to generate standings_df.\n",
    "    \n",
    "    >>> create_team_df(standings_df, '2016', 'PIT')\n",
    "    '''\n",
    "    teamurlprefix = config['HR']['team']\n",
    "    teamurl = f'{teamurlprefix}{team}/{str(season)}.html'\n",
    "    \n",
    "    try:\n",
    "        response = requests.get(teamurl)\n",
    "        response.raise_for_status()\n",
    "        \n",
    "        dfs = pd.read_html(teamurl)\n",
    "\n",
    "        three_list = ['BOS', 'NYR']\n",
    "\n",
    "        # The Boston and New York Rangers pages have an extra table in 2024\n",
    "        tableno = 4 - (team in three_list) \n",
    "        team_df = dfs[tableno]\n",
    "        team_df.columns = team_df.columns.droplevel(0)\n",
    "        cols = ['Player', 'Age', 'Pos', 'GP', 'G', 'A', 'PTS', '+/-', 'PIM', 'S', 'S%', 'OPS',\n",
    "       'DPS', 'PS']\n",
    "        team_df = team_df[cols]\n",
    "        gf = standings_df.loc[standings_df['Team'] == team, 'GF'].iloc[0]\n",
    "        playoffs = standings_df.loc[standings_df['Team'] == team, 'Playoffs'].iloc[0]\n",
    "        team_df = team_df.assign(Team = team, Playoffs = playoffs, Season = season)\n",
    "        team_df = team_df.dropna(subset = ['Age']).fillna(0)\n",
    "        \n",
    "    except requests.exceptions.RequestException as e:\n",
    "        print(f'Error {teamurl}')\n",
    "    return team_df"
   ]
  },
  {
   "cell_type": "code",
   "execution_count": 9,
   "id": "749ba459-7aff-43a5-8086-7cee13cc6e2d",
   "metadata": {},
   "outputs": [],
   "source": [
    "def create_season_df(season, teams):\n",
    "    ''' (int, list of strings) -> DataFrame\n",
    "    \n",
    "    Returns a DataFrame containing all player statistics from each NHL team in the\n",
    "    \"teams\" list for the season *ending* in the given year.\n",
    "    \n",
    "    >>> create_season_df('2016', teams)\n",
    "    '''\n",
    "    standings_df = create_standings_df(season)\n",
    "    season_df = pd.DataFrame()\n",
    "    \n",
    "    for team in teams:\n",
    "        team_df = create_team_df(standings_df, season, team)\n",
    "        season_df = pd.concat([season_df, team_df])\n",
    "        time.sleep(5) \n",
    "        \n",
    "    return season_df"
   ]
  },
  {
   "cell_type": "code",
   "execution_count": 12,
   "id": "da673820-56e9-47ae-8844-6569debadef2",
   "metadata": {},
   "outputs": [],
   "source": [
    "def scrape_data(seasons, teams):\n",
    "    ''' (list int, list of strings) -> DataFrame\n",
    "        Returns a DataFrame containing all player statistics from each NHL team in the \"teams\" list\n",
    "        for the all seasons in the \"seasons\" list.\n",
    "    \n",
    "    >>> scrape_data(seasons, teams)\n",
    "    '''\n",
    "    NHL_data = pd.DataFrame()\n",
    "\n",
    "    teams2022 = list(set(teams) - set(['ATL', 'MDA', 'PHX']))\n",
    "    \n",
    "    for season in seasons:\n",
    "        season_df = create_season_df(season, teams2022)\n",
    "        NHL_data = pd.concat([NHL_data, season_df])\n",
    "    return NHL_data"
   ]
  },
  {
   "cell_type": "code",
   "execution_count": 68,
   "id": "8c37c2c4-aa1b-4c44-9090-9709fa9244f0",
   "metadata": {},
   "outputs": [
    {
     "name": "stdout",
     "output_type": "stream",
     "text": [
      "Execution time: 02:59\n"
     ]
    }
   ],
   "source": [
    "start = time.time()\n",
    "nhl_data = scrape_data(seasons, teams)\n",
    "end = time.time()\n",
    "elapsed_time = end - start\n",
    "print('Execution time:', time.strftime('%M:%S', time.gmtime(elapsed_time)))"
   ]
  },
  {
   "cell_type": "code",
   "execution_count": 70,
   "id": "f1dfbaf0-e75b-46c1-8c5e-4f8038c97ef6",
   "metadata": {},
   "outputs": [],
   "source": [
    "nhl_data.to_csv('2024data.csv', index = False)"
   ]
  }
 ],
 "metadata": {
  "kernelspec": {
   "display_name": "Python 3 (ipykernel)",
   "language": "python",
   "name": "python3"
  },
  "language_info": {
   "codemirror_mode": {
    "name": "ipython",
    "version": 3
   },
   "file_extension": ".py",
   "mimetype": "text/x-python",
   "name": "python",
   "nbconvert_exporter": "python",
   "pygments_lexer": "ipython3",
   "version": "3.9.13"
  }
 },
 "nbformat": 4,
 "nbformat_minor": 5
}
